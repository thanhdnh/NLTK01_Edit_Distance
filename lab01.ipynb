{
 "cells": [
  {
   "cell_type": "code",
   "execution_count": 1,
   "metadata": {},
   "outputs": [],
   "source": [
    "import nltk"
   ]
  },
  {
   "cell_type": "code",
   "execution_count": 8,
   "metadata": {},
   "outputs": [
    {
     "name": "stdout",
     "output_type": "stream",
     "text": [
      "210\n",
      "0123\n",
      "3\n"
     ]
    }
   ],
   "source": [
    "s1 = \"toi di hoc\"\n",
    "s2 = \"hoc di toi lai\"\n",
    "a1 = s1.split()\n",
    "a2 = s2.split()\n",
    "temp = []\n",
    "for i in a1:\n",
    "    for j in range(len(a2)):\n",
    "        if i == a2[j]:\n",
    "            temp.append(str(j))\n",
    "            break\n",
    "for i in range(len(a2)):\n",
    "    a2[i] = str(i)\n",
    "s1 = ''.join(temp)\n",
    "s2 = ''.join(a2)\n",
    "print(s1)\n",
    "print(s2)\n",
    "print(nltk.edit_distance(s1,s2, substitution_cost=1,transpositions=False ))\n",
    "\n",
    "#a = list(set(a1 + a2))\n",
    "    \n"
   ]
  },
  {
   "cell_type": "code",
   "execution_count": 19,
   "metadata": {},
   "outputs": [
    {
     "name": "stdout",
     "output_type": "stream",
     "text": [
      "{'toi': 'A', 'lai': 'B', 'di': 'C', 'hoc': 'D'}\n",
      "ACD\n",
      "DCAB\n"
     ]
    },
    {
     "data": {
      "text/plain": [
       "3"
      ]
     },
     "execution_count": 19,
     "metadata": {},
     "output_type": "execute_result"
    }
   ],
   "source": [
    "s1, s2 = \"toi di hoc\", \"hoc di toi lai\"\n",
    "a1 = s1.split(); a2 = s2.split()\n",
    "a = list(set(a1+a2))\n",
    "dic = dict(zip(a, [chr(w) for w in range(ord('A'),ord('Z'))]))\n",
    "print(dic)\n",
    "sa1, sa2 = \"\", \"\"\n",
    "sa1 = ''.join([str(w) for w in [dic[key] for key in a1]])\n",
    "sa2 = ''.join([str(w) for w in [dic[key] for key in a2]])\n",
    "print(sa1); print(sa2)\n",
    "nltk.edit_distance(sa1, sa2, substitution_cost=1)"
   ]
  },
  {
   "cell_type": "code",
   "execution_count": 2,
   "metadata": {},
   "outputs": [],
   "source": [
    "s1, s2 = \"toi di hoc\", \"hoc di toi lai\""
   ]
  },
  {
   "cell_type": "code",
   "execution_count": 3,
   "metadata": {},
   "outputs": [],
   "source": [
    "alphabet = ['a', 'b', 'c', 'd', 'e', 'f', 'g', 'h', 'i', 'j', 'k', 'l']"
   ]
  },
  {
   "cell_type": "code",
   "execution_count": 6,
   "metadata": {},
   "outputs": [],
   "source": [
    "alphabet = [chr(num) for num in range(65, 75)]"
   ]
  },
  {
   "cell_type": "code",
   "execution_count": 8,
   "metadata": {},
   "outputs": [
    {
     "name": "stdout",
     "output_type": "stream",
     "text": [
      "{'di': 'A', 'lai': 'B', 'toi': 'C', 'hoc': 'D'} {'A': 'di', 'B': 'lai', 'C': 'toi', 'D': 'hoc'}\n"
     ]
    }
   ],
   "source": [
    "vocab = list(set((s1 + ' ' + s2).split()))\n",
    "\n",
    "wtoc = {w:c for w, c in zip(vocab, alphabet[:len(vocab)])}\n",
    "ctow = {c:w for w, c in wtoc.items()}\n",
    "print(wtoc, ctow)"
   ]
  },
  {
   "cell_type": "code",
   "execution_count": 11,
   "metadata": {},
   "outputs": [
    {
     "data": {
      "text/plain": [
       "('CAD', 'DACB')"
      ]
     },
     "execution_count": 11,
     "metadata": {},
     "output_type": "execute_result"
    }
   ],
   "source": [
    "tokenized_s1 = ''.join([wtoc[s] for s in s1.split()])\n",
    "tokenized_s2 = ''.join([wtoc[s] for s in s2.split()])\n",
    "tokenized_s1, tokenized_s2"
   ]
  },
  {
   "cell_type": "code",
   "execution_count": 13,
   "metadata": {},
   "outputs": [
    {
     "data": {
      "text/plain": [
       "[(0, 0), (0, 1), (0, 2), (1, 3), (2, 3), (3, 4)]"
      ]
     },
     "execution_count": 13,
     "metadata": {},
     "output_type": "execute_result"
    }
   ],
   "source": [
    "import nltk\n",
    "nltk.edit_distance_align(tokenized_s1, tokenized_s2, substitution_cost=2)"
   ]
  },
  {
   "cell_type": "code",
   "execution_count": 14,
   "metadata": {},
   "outputs": [
    {
     "data": {
      "text/plain": [
       "5"
      ]
     },
     "execution_count": 14,
     "metadata": {},
     "output_type": "execute_result"
    }
   ],
   "source": [
    "nltk.edit_distance(tokenized_s1, tokenized_s2, substitution_cost=2)"
   ]
  },
  {
   "cell_type": "code",
   "execution_count": null,
   "metadata": {},
   "outputs": [],
   "source": []
  }
 ],
 "metadata": {
  "kernelspec": {
   "display_name": "Python 3",
   "language": "python",
   "name": "python3"
  },
  "language_info": {
   "codemirror_mode": {
    "name": "ipython",
    "version": 3
   },
   "file_extension": ".py",
   "mimetype": "text/x-python",
   "name": "python",
   "nbconvert_exporter": "python",
   "pygments_lexer": "ipython3",
   "version": "3.10.3"
  }
 },
 "nbformat": 4,
 "nbformat_minor": 2
}
